{
  "nbformat": 4,
  "nbformat_minor": 0,
  "metadata": {
    "colab": {
      "name": "adding new product.ipynb",
      "provenance": []
    },
    "kernelspec": {
      "name": "python3",
      "display_name": "Python 3"
    },
    "language_info": {
      "name": "python"
    }
  },
  "cells": [
    {
      "cell_type": "code",
      "metadata": {
        "colab": {
          "base_uri": "https://localhost:8080/"
        },
        "id": "FAsEzb8T9675",
        "outputId": "b7e1d17a-c05a-4b00-80fb-ec733551c90d"
      },
      "source": [
        "\n",
        "import json\n",
        "fd = open(\"record.json\",'r')\n",
        "r=fd.read()\n",
        "fd.close()\n",
        "record = json.loads(r)\n",
        "\n",
        "prod_id = str(input(\"Enter product id:\"))\n",
        "Product_name = str(input(\"Enter the name:\"))\n",
        "Price = int(input(\"Enter the price:\"))\n",
        "quantity = int(input(\"Enter the quantity:\"))\n",
        "\n",
        "if prod_id in record: \n",
        "     record[prod_id][\"quantity\"] = int(record[prod_id]['quantity']) + quantity\n",
        "     quantity = record[prod_id][\"quantity\"]\n",
        "\n",
        "if prod_id not in record: \n",
        "   {prod_id : {'Product_name':Product_name ,'price':price,'quantity':quantity}}\n",
        "   record[prod_id] = {'Product_name':Product_name ,'Price':Price,'quantity':quantity}\n",
        "\n"
      ],
      "execution_count": 155,
      "outputs": [
        {
          "name": "stdout",
          "output_type": "stream",
          "text": [
            "Enter product id:1013\n",
            "Enter the name:Oil\n",
            "Enter the price:220\n",
            "Enter the quantity:4\n"
          ]
        }
      ]
    },
    {
      "cell_type": "code",
      "metadata": {
        "id": "bxzJbWxIN_Lq",
        "colab": {
          "base_uri": "https://localhost:8080/"
        },
        "outputId": "2e483a03-acec-452e-8272-781bad3b7393"
      },
      "source": [
        "\n",
        "record\n"
      ],
      "execution_count": 156,
      "outputs": [
        {
          "output_type": "execute_result",
          "data": {
            "text/plain": [
              "{' 1012': {'Price': 500, 'Product_name': 'Watch', 'quantity': 25},\n",
              " '1001': {'Price': 30, 'Product_name': 'Note', 'quantity': 120},\n",
              " '1002': {'Price': 10, 'Product_name': 'Pen', 'quantity': 100},\n",
              " '1003': {'Price': 15, 'Product_name': 'Pencil', 'quantity': 50},\n",
              " '1004': {'Price': 300, 'Product_name': 'Headset', 'quantity': 30},\n",
              " '1005': {'Price': 50, 'Product_name': 'Dark chocolate', 'quantity': 80},\n",
              " '1006': {'Price': 20, 'Product_name': 'Biscuit', 'quantity': 76},\n",
              " '1007': {'Price': 30, 'Product_name': 'Juice', 'quantity': 60},\n",
              " '1008': {'Price': 200, 'Product_name': 'Cake', 'quantity': 24},\n",
              " '1009': {'Price': 20, 'Product_name': 'Chocolate', 'quantity': 80},\n",
              " '1010': {'Price': 30, 'Product_name': 'Chips', 'quantity': 88},\n",
              " '1011': {'Price': 100, 'Product_name': 'Fruit jam', 'quantity': 50},\n",
              " '1013': {'Price': 220, 'Product_name': 'Oil', 'quantity': 54},\n",
              " '1014': {'Price': 50, 'Product_name': 'Noodles', 'quantity': 130},\n",
              " '1015': {'Price': 70, 'Product_name': 'Rice', 'quantity': 59},\n",
              " '1016': {'Price': 20, 'Product_name': 'Dairy milk', 'quantity': 70},\n",
              " '1017': {'Price': 40, 'Product_name': 'Oats', 'quantity': 40},\n",
              " '1018': {'Price': 50, 'Product_name': 'Dark fantasy biscuit', 'quantity': 50},\n",
              " '1019': {'Price': 25, 'Product_name': 'Pop corn', 'quantity': 60},\n",
              " '1020': {'Price': 20, 'Product_name': 'Milk', 'quantity': 70},\n",
              " '1021': {'Price': 20, 'Product_name': 'Curd', 'quantity': 60},\n",
              " '1022': {'Price': 90, 'Product_name': 'Butter', 'quantity': 20},\n",
              " '1023': {'Price': 50, 'Product_name': 'Ketchup', 'quantity': 70},\n",
              " '1024': {'Price': 70, 'Product_name': 'Ice cream', 'quantity': 48},\n",
              " '1025': {'Price': 240, 'Product_name': 'Dry fruit', 'quantity': 43},\n",
              " '1026': {'Price': 20, 'Product_name': 'Toothbrush', 'quantity': 100},\n",
              " '1027': {'Price': 46, 'Product_name': 'Toothpaste', 'quantity': 50},\n",
              " '1028': {'Price': 20, 'Product_name': 'Kitkat', 'quantity': 100},\n",
              " '1029': {'Price': 60, 'Product_name': 'Dove soap ', 'quantity': 33},\n",
              " '1030': {'Price': 80, 'Product_name': 'Dove shampoo', 'quantity': 20},\n",
              " '1031': {'Price': 120, 'Product_name': 'Apple', 'quantity': 30},\n",
              " '1032': {'Price': 20, 'Product_name': 'Mask', 'quantity': 125},\n",
              " '1033': {'Price': 10, 'Product_name': 'Gum', 'quantity': 38},\n",
              " '1034': {'Price': 300, 'Product_name': 'Charger', 'quantity': 20},\n",
              " '1035': {'Price': 280, 'Product_name': 'Perfume', 'quantity': 13}}"
            ]
          },
          "metadata": {},
          "execution_count": 156
        }
      ]
    },
    {
      "cell_type": "code",
      "metadata": {
        "colab": {
          "base_uri": "https://localhost:8080/",
          "height": 196
        },
        "id": "FIPSUSRFDEd2",
        "outputId": "19bead77-7062-44d4-d627-83ee7e4d2b53"
      },
      "source": [
        "import pandas as pd\n",
        "\n",
        "df = pd.DataFrame(record)\n",
        "display(df)"
      ],
      "execution_count": 157,
      "outputs": [
        {
          "output_type": "display_data",
          "data": {
            "text/html": [
              "<div>\n",
              "<style scoped>\n",
              "    .dataframe tbody tr th:only-of-type {\n",
              "        vertical-align: middle;\n",
              "    }\n",
              "\n",
              "    .dataframe tbody tr th {\n",
              "        vertical-align: top;\n",
              "    }\n",
              "\n",
              "    .dataframe thead th {\n",
              "        text-align: right;\n",
              "    }\n",
              "</style>\n",
              "<table border=\"1\" class=\"dataframe\">\n",
              "  <thead>\n",
              "    <tr style=\"text-align: right;\">\n",
              "      <th></th>\n",
              "      <th>1001</th>\n",
              "      <th>1002</th>\n",
              "      <th>1003</th>\n",
              "      <th>1004</th>\n",
              "      <th>1005</th>\n",
              "      <th>1006</th>\n",
              "      <th>1007</th>\n",
              "      <th>1008</th>\n",
              "      <th>1009</th>\n",
              "      <th>1010</th>\n",
              "      <th>1011</th>\n",
              "      <th>1012</th>\n",
              "      <th>1013</th>\n",
              "      <th>1014</th>\n",
              "      <th>1015</th>\n",
              "      <th>1016</th>\n",
              "      <th>1017</th>\n",
              "      <th>1018</th>\n",
              "      <th>1019</th>\n",
              "      <th>1020</th>\n",
              "      <th>1021</th>\n",
              "      <th>1022</th>\n",
              "      <th>1023</th>\n",
              "      <th>1024</th>\n",
              "      <th>1025</th>\n",
              "      <th>1026</th>\n",
              "      <th>1027</th>\n",
              "      <th>1028</th>\n",
              "      <th>1029</th>\n",
              "      <th>1030</th>\n",
              "      <th>1031</th>\n",
              "      <th>1032</th>\n",
              "      <th>1033</th>\n",
              "      <th>1034</th>\n",
              "      <th>1035</th>\n",
              "    </tr>\n",
              "  </thead>\n",
              "  <tbody>\n",
              "    <tr>\n",
              "      <th>Product_name</th>\n",
              "      <td>Note</td>\n",
              "      <td>Pen</td>\n",
              "      <td>Pencil</td>\n",
              "      <td>Headset</td>\n",
              "      <td>Dark chocolate</td>\n",
              "      <td>Biscuit</td>\n",
              "      <td>Juice</td>\n",
              "      <td>Cake</td>\n",
              "      <td>Chocolate</td>\n",
              "      <td>Chips</td>\n",
              "      <td>Fruit jam</td>\n",
              "      <td>Watch</td>\n",
              "      <td>Oil</td>\n",
              "      <td>Noodles</td>\n",
              "      <td>Rice</td>\n",
              "      <td>Dairy milk</td>\n",
              "      <td>Oats</td>\n",
              "      <td>Dark fantasy biscuit</td>\n",
              "      <td>Pop corn</td>\n",
              "      <td>Milk</td>\n",
              "      <td>Curd</td>\n",
              "      <td>Butter</td>\n",
              "      <td>Ketchup</td>\n",
              "      <td>Ice cream</td>\n",
              "      <td>Dry fruit</td>\n",
              "      <td>Toothbrush</td>\n",
              "      <td>Toothpaste</td>\n",
              "      <td>Kitkat</td>\n",
              "      <td>Dove soap</td>\n",
              "      <td>Dove shampoo</td>\n",
              "      <td>Apple</td>\n",
              "      <td>Mask</td>\n",
              "      <td>Gum</td>\n",
              "      <td>Charger</td>\n",
              "      <td>Perfume</td>\n",
              "    </tr>\n",
              "    <tr>\n",
              "      <th>Price</th>\n",
              "      <td>30</td>\n",
              "      <td>10</td>\n",
              "      <td>15</td>\n",
              "      <td>300</td>\n",
              "      <td>50</td>\n",
              "      <td>20</td>\n",
              "      <td>30</td>\n",
              "      <td>200</td>\n",
              "      <td>20</td>\n",
              "      <td>30</td>\n",
              "      <td>100</td>\n",
              "      <td>500</td>\n",
              "      <td>220</td>\n",
              "      <td>50</td>\n",
              "      <td>70</td>\n",
              "      <td>20</td>\n",
              "      <td>40</td>\n",
              "      <td>50</td>\n",
              "      <td>25</td>\n",
              "      <td>20</td>\n",
              "      <td>20</td>\n",
              "      <td>90</td>\n",
              "      <td>50</td>\n",
              "      <td>70</td>\n",
              "      <td>240</td>\n",
              "      <td>20</td>\n",
              "      <td>46</td>\n",
              "      <td>20</td>\n",
              "      <td>60</td>\n",
              "      <td>80</td>\n",
              "      <td>120</td>\n",
              "      <td>20</td>\n",
              "      <td>10</td>\n",
              "      <td>300</td>\n",
              "      <td>280</td>\n",
              "    </tr>\n",
              "    <tr>\n",
              "      <th>quantity</th>\n",
              "      <td>120</td>\n",
              "      <td>100</td>\n",
              "      <td>50</td>\n",
              "      <td>30</td>\n",
              "      <td>80</td>\n",
              "      <td>76</td>\n",
              "      <td>60</td>\n",
              "      <td>24</td>\n",
              "      <td>80</td>\n",
              "      <td>88</td>\n",
              "      <td>50</td>\n",
              "      <td>25</td>\n",
              "      <td>54</td>\n",
              "      <td>130</td>\n",
              "      <td>59</td>\n",
              "      <td>70</td>\n",
              "      <td>40</td>\n",
              "      <td>50</td>\n",
              "      <td>60</td>\n",
              "      <td>70</td>\n",
              "      <td>60</td>\n",
              "      <td>20</td>\n",
              "      <td>70</td>\n",
              "      <td>48</td>\n",
              "      <td>43</td>\n",
              "      <td>100</td>\n",
              "      <td>50</td>\n",
              "      <td>100</td>\n",
              "      <td>33</td>\n",
              "      <td>20</td>\n",
              "      <td>30</td>\n",
              "      <td>125</td>\n",
              "      <td>38</td>\n",
              "      <td>20</td>\n",
              "      <td>13</td>\n",
              "    </tr>\n",
              "  </tbody>\n",
              "</table>\n",
              "</div>"
            ],
            "text/plain": [
              "              1001 1002    1003     1004  ...  1032 1033     1034     1035\n",
              "Product_name  Note  Pen  Pencil  Headset  ...  Mask  Gum  Charger  Perfume\n",
              "Price           30   10      15      300  ...    20   10      300      280\n",
              "quantity       120  100      50       30  ...   125   38       20       13\n",
              "\n",
              "[3 rows x 35 columns]"
            ]
          },
          "metadata": {}
        }
      ]
    },
    {
      "cell_type": "code",
      "metadata": {
        "id": "GIClFcC5RUei"
      },
      "source": [
        "js= json.dumps(record)\n",
        "fd=open(\"record.json\",'w')\n",
        "fd.write(js)\n",
        "fd.close()"
      ],
      "execution_count": 158,
      "outputs": []
    },
    {
      "cell_type": "markdown",
      "metadata": {
        "id": "7VyVT0WXBft9"
      },
      "source": [
        "**product purchasing**"
      ]
    }
  ]
}