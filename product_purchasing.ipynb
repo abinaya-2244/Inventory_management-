{
  "nbformat": 4,
  "nbformat_minor": 0,
  "metadata": {
    "colab": {
      "name": "product purchasing.ipynb",
      "provenance": []
    },
    "kernelspec": {
      "name": "python3",
      "display_name": "Python 3"
    },
    "language_info": {
      "name": "python"
    }
  },
  "cells": [
    {
      "cell_type": "code",
      "metadata": {
        "colab": {
          "base_uri": "https://localhost:8080/"
        },
        "id": "ZPaKwVZ6h937",
        "outputId": "888bce6a-997a-4002-f03d-dcd42d91f154"
      },
      "source": [
        "import json\n",
        "fd = open(\"record(1).json\",'r')\n",
        "r=fd.read()\n",
        "fd.close()\n",
        "\n",
        "records = json.loads(r)\n",
        "\n",
        "\n",
        "\n",
        "ui_prod=input(\"Enter product id:\")\n",
        "ui_quant = int(input(\"Enter the quantity:\"))\n",
        "\n",
        "\n",
        "print(\"###############################################################\")\n",
        "\n",
        "print(\"product name     :\",records[ui_prod]['Product_name']) \n",
        "print(\"price            :\",records[ui_prod]['Price'])\n",
        "print(\"product quantity :\",ui_quant)\n",
        "print(\"product id       :\",ui_prod)\n",
        "\n",
        "\n",
        "print(\"###############################################################\")\n",
        "print(\"---------------------BILL--------------------------------------\")\n",
        "print(\"Total Amount      :\",records[ui_prod]['Price']*ui_quant)\n",
        "\n",
        "print(\"###############################################################\")\n",
        "\n",
        "print(\"Thank you for shopping\")\n",
        "print(\"Have a nice day\")\n",
        "\n",
        "records[ui_prod][\"quantity\"] = int(records[ui_prod][\"quantity\"]) - ui_quant\n",
        "\n",
        "\n",
        "js = json.dumps(records)\n",
        "\n",
        "fd = open(\"record(1).json\",'w')\n",
        "fd.write(js)\n",
        "fd.close()\n",
        "records\n",
        "\n",
        "\n"
      ],
      "execution_count": 18,
      "outputs": [
        {
          "output_type": "stream",
          "name": "stdout",
          "text": [
            "Enter product id:1032\n",
            "Enter the quantity:3\n",
            "###############################################################\n",
            "product name     : Mask\n",
            "price            : 20\n",
            "product quantity : 3\n",
            "product id       : 1032\n",
            "###############################################################\n",
            "---------------------BILL--------------------------------------\n",
            "Total Amount      : 60\n",
            "###############################################################\n",
            "Thank you for shopping\n",
            "Have a nice day\n"
          ]
        },
        {
          "output_type": "execute_result",
          "data": {
            "text/plain": [
              "{' 1012': {'Price': 500, 'Product_name': 'Watch', 'quantity': 25},\n",
              " '1001': {'Price': 30, 'Product_name': 'Note', 'quantity': 116},\n",
              " '1002': {'Price': 10, 'Product_name': 'Pen', 'quantity': 100},\n",
              " '1003': {'Price': 15, 'Product_name': 'Pencil', 'quantity': 50},\n",
              " '1004': {'Price': 300, 'Product_name': 'Headset', 'quantity': 30},\n",
              " '1005': {'Price': 50, 'Product_name': 'Dark chocolate', 'quantity': 77},\n",
              " '1006': {'Price': 20, 'Product_name': 'Biscuit', 'quantity': 76},\n",
              " '1007': {'Price': 30, 'Product_name': 'Juice', 'quantity': 60},\n",
              " '1008': {'Price': 200, 'Product_name': 'Cake', 'quantity': 24},\n",
              " '1009': {'Price': 20, 'Product_name': 'Chocolate', 'quantity': 80},\n",
              " '1010': {'Price': 30, 'Product_name': 'Chips', 'quantity': 80},\n",
              " '1011': {'Price': 100, 'Product_name': 'Fruit jam', 'quantity': 50},\n",
              " '1013': {'Price': 220, 'Product_name': 'Oil', 'quantity': 50},\n",
              " '1014': {'Price': 50, 'Product_name': 'Noodles', 'quantity': 130},\n",
              " '1015': {'Price': 70, 'Product_name': 'Rice', 'quantity': 59},\n",
              " '1016': {'Price': 20, 'Product_name': 'Dairy milk', 'quantity': 70},\n",
              " '1017': {'Price': 40, 'Product_name': 'Oats', 'quantity': 40},\n",
              " '1018': {'Price': 50, 'Product_name': 'Dark fantasy biscuit', 'quantity': 50},\n",
              " '1019': {'Price': 25, 'Product_name': 'Pop corn', 'quantity': 60},\n",
              " '1020': {'Price': 20, 'Product_name': 'Milk', 'quantity': 70},\n",
              " '1021': {'Price': 20, 'Product_name': 'Curd', 'quantity': 60},\n",
              " '1022': {'Price': 90, 'Product_name': 'Butter', 'quantity': 20},\n",
              " '1023': {'Price': 50, 'Product_name': 'Ketchup', 'quantity': 70},\n",
              " '1024': {'Price': 70, 'Product_name': 'Ice cream', 'quantity': 48},\n",
              " '1025': {'Price': 240, 'Product_name': 'Dry fruit', 'quantity': 43},\n",
              " '1026': {'Price': 20, 'Product_name': 'Toothbrush', 'quantity': 100},\n",
              " '1027': {'Price': 46, 'Product_name': 'Toothpaste', 'quantity': 47},\n",
              " '1028': {'Price': 20, 'Product_name': 'Kitkat', 'quantity': 100},\n",
              " '1029': {'Price': 60, 'Product_name': 'Dove soap ', 'quantity': 33},\n",
              " '1030': {'Price': 80, 'Product_name': 'Dove shampoo', 'quantity': 20},\n",
              " '1031': {'Price': 120, 'Product_name': 'Apple', 'quantity': 30},\n",
              " '1032': {'Price': 20, 'Product_name': 'Mask', 'quantity': 122},\n",
              " '1033': {'Price': 10, 'Product_name': 'Gum', 'quantity': 38},\n",
              " '1034': {'Price': 300, 'Product_name': 'Charger', 'quantity': 20},\n",
              " '1035': {'Price': 280, 'Product_name': 'Perfume', 'quantity': 13}}"
            ]
          },
          "metadata": {},
          "execution_count": 18
        }
      ]
    },
    {
      "cell_type": "code",
      "metadata": {
        "id": "AlFkLmzHr3SX"
      },
      "source": [
        "#updating after purchase\n",
        "import json\n",
        "js=json.dumps(records)\n",
        "fd=open(\"record(1).json\",'w')\n",
        "fd.write(js)\n",
        "fd.close\n",
        "\n",
        "\n",
        "\n",
        "{'prod':ui_prod, 'quantity' : ui_quant, 'amount': records[ui_prod]['Price'] * ui_quant}\n",
        "\n",
        "sales = {1 : {'prod':ui_prod, 'quantity' : ui_quant, 'amount': records[ui_prod]['Price'] * ui_quant},\n",
        "         2 : {'prod':ui_prod, 'quantity' : ui_quant, 'amount': records[ui_prod]['Price'] * ui_quant},\n",
        "         3 : {'prod':ui_prod, 'quantity' : ui_quant, 'amount': records[ui_prod]['Price'] * ui_quant}}\n",
        "\n",
        "sales[(len(sales)+1)]={'prod':ui_prod, 'quantity' : ui_quant, 'amount': records[ui_prod]['Price'] * ui_quant}\n",
        "sale=json.dumps(sales)"
      ],
      "execution_count": 16,
      "outputs": []
    },
    {
      "cell_type": "code",
      "metadata": {
        "colab": {
          "base_uri": "https://localhost:8080/",
          "height": 52
        },
        "id": "vMDo4T3HuvLQ",
        "outputId": "51ea1791-2397-4643-922d-2a4f98657531"
      },
      "source": [
        "sale"
      ],
      "execution_count": 14,
      "outputs": [
        {
          "output_type": "execute_result",
          "data": {
            "application/vnd.google.colaboratory.intrinsic+json": {
              "type": "string"
            },
            "text/plain": [
              "'{\"1\": {\"prod\": \"1027\", \"quantity\": 3, \"amount\": 138}, \"2\": {\"prod\": \"1027\", \"quantity\": 3, \"amount\": 138}, \"3\": {\"prod\": \"1027\", \"quantity\": 3, \"amount\": 138}, \"4\": {\"prod\": \"1027\", \"quantity\": 3, \"amount\": 138}}'"
            ]
          },
          "metadata": {},
          "execution_count": 14
        }
      ]
    }
  ]
}